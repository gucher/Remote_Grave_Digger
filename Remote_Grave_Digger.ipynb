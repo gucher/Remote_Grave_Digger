{
  "nbformat": 4,
  "nbformat_minor": 0,
  "metadata": {
    "colab": {
      "name": "Remote_Grave_Digger.ipynb",
      "version": "0.3.2",
      "provenance": [],
      "collapsed_sections": [],
      "include_colab_link": true
    },
    "kernelspec": {
      "name": "python3",
      "display_name": "Python 3"
    }
  },
  "cells": [
    {
      "cell_type": "markdown",
      "metadata": {
        "id": "view-in-github",
        "colab_type": "text"
      },
      "source": [
        "<a href=\"https://colab.research.google.com/github/gucher/Remote_Grave_Digger/blob/master/Remote_Grave_Digger.ipynb\" target=\"_parent\"><img src=\"https://colab.research.google.com/assets/colab-badge.svg\" alt=\"Open In Colab\"/></a>"
      ]
    },
    {
      "cell_type": "markdown",
      "metadata": {
        "id": "fnwoVucrRvXd",
        "colab_type": "text"
      },
      "source": [
        "# How I built a remote controlled Grave Digger with a Raspberry Pi"
      ]
    },
    {
      "cell_type": "markdown",
      "metadata": {
        "id": "FfkU-6ZAR9bS",
        "colab_type": "text"
      },
      "source": [
        "*This is part 1 of a series in which I take a typical RC car and add numerous technology and software upgrades in pursuit of a fully autonomous Grave Digger.*"
      ]
    },
    {
      "cell_type": "markdown",
      "metadata": {
        "id": "19N-4EOAvVAd",
        "colab_type": "text"
      },
      "source": [
        "*In Part 1 we will explore:*\n",
        "\n",
        "*   Deconstruction of RC car\n",
        "*   Default wiring and framework\n",
        "*   Battery source reconstruction\n",
        "*   Wiring and electircal setup\n",
        "*   Python libraries\n",
        "*   Motor and speed setting (PWM)\n",
        "*   Using curses library"
      ]
    },
    {
      "cell_type": "markdown",
      "metadata": {
        "id": "Vk_jp_wjYi0a",
        "colab_type": "text"
      },
      "source": [
        "## Original Car"
      ]
    },
    {
      "cell_type": "markdown",
      "metadata": {
        "id": "iYaae_S5SDRy",
        "colab_type": "text"
      },
      "source": [
        "#### At first I was looking to find a smaller car with a wide range of motion, but I laid eyes on this beauty at Big Lots and couldn't resist the sale price of $20.\n",
        "\n",
        "![alt text](https://drive.google.com/uc?id=13omzro0UhENkenbvYvJRBl4YPV9l8G-u)"
      ]
    },
    {
      "cell_type": "markdown",
      "metadata": {
        "id": "01pPgYLNYs_G",
        "colab_type": "text"
      },
      "source": [
        "## Deconstruction"
      ]
    },
    {
      "cell_type": "markdown",
      "metadata": {
        "id": "o1IbcQ7fZ1hh",
        "colab_type": "text"
      },
      "source": [
        "Removing the body, we see a plastic frame and two sets of wiring to the front and rear axels.\n",
        "\n",
        "![alt text](https://drive.google.com/uc?id=1Jt_gmCn6PJC8Fm7YF5gisILsQaJpuvX4)"
      ]
    },
    {
      "cell_type": "markdown",
      "metadata": {
        "id": "nKfss7baYw-E",
        "colab_type": "text"
      },
      "source": [
        "The bottom of the car holds the battery pack and power on/off switch. Front and rear axels are removable.\n",
        "\n",
        "![alt text](https://drive.google.com/uc?id=1h5xrLZJFlOmDnFv1xUKZjXejvJf3xGiU)"
      ]
    },
    {
      "cell_type": "markdown",
      "metadata": {
        "id": "_qNj7c1zBKHX",
        "colab_type": "text"
      },
      "source": [
        "Default controller hooked up to battery pack.\n",
        "\n",
        "![alt text](https://drive.google.com/uc?id=12mlGh7Xx7VV-Azu4HwA2Kw8vAb2Jw79m)"
      ]
    },
    {
      "cell_type": "markdown",
      "metadata": {
        "id": "5v92EqRrBZA0",
        "colab_type": "text"
      },
      "source": [
        "Remove all components of RC car except front and rear DC motors.\n",
        "\n",
        "![alt text](https://drive.google.com/uc?id=19-H_gTRc5r_uFdRB3mRfajZYaxSFyaWi)\n",
        "\n",
        "*I explored the idea of switching out tires but decided against it as the project went on.*"
      ]
    },
    {
      "cell_type": "markdown",
      "metadata": {
        "id": "N7OcBjBdDcs2",
        "colab_type": "text"
      },
      "source": [
        "Here's the RC car broken down with all standard peices. I was surprised with how simple these cheap RC cars are. They consist of very limited and basic components.\n",
        "\n",
        "![alt text](https://drive.google.com/uc?id=1ZXl4hqj67dI5kv8Kw42NUoPqW9bTbX2c)"
      ]
    },
    {
      "cell_type": "markdown",
      "metadata": {
        "id": "y4MKODQ1BZHG",
        "colab_type": "text"
      },
      "source": [
        "To determine which GPIO pins control F/B and L/R control, I used an extra DC motor for testing.\n",
        "\n",
        "![alt text](https://drive.google.com/uc?id=1Q-495oJAm4tE2RNQASTLMjkM5kY-43Y3)"
      ]
    },
    {
      "cell_type": "markdown",
      "metadata": {
        "id": "2TqZ27A2BZJo",
        "colab_type": "text"
      },
      "source": [
        "*I am not an electonics expert (this is my first real project), so I relied on tutorials and infographics a lot.*"
      ]
    },
    {
      "cell_type": "markdown",
      "metadata": {
        "id": "nAa4fJvZBZL3",
        "colab_type": "text"
      },
      "source": [
        "Setup for controlling a DC motor with L298N.\n",
        "\n",
        "![alt text](https://drive.google.com/uc?id=1ViGeNgD4M08J_eAbHheEs4iY6LE7O7e2)"
      ]
    },
    {
      "cell_type": "markdown",
      "metadata": {
        "id": "2kYxkgiCCh9T",
        "colab_type": "text"
      },
      "source": [
        "To lower the speed at which the rear motor cycles, I used PWM (Pulse Width Modulation) capable GPIO pins.\n",
        "\n",
        "![alt text](https://drive.google.com/uc?id=1aooWqVkVjGv4NIorVhxvBA799YnOCFoi)"
      ]
    },
    {
      "cell_type": "markdown",
      "metadata": {
        "id": "DJYFU0ivDI5a",
        "colab_type": "text"
      },
      "source": [
        "Once the L298N was wired to front and rear motors, I affixed a rectangle of cardboard to the bottom as a placeholder to rest all the components on.\n",
        "\n",
        "![alt text](https://drive.google.com/uc?id=1dle7K6xfJX2IS-xWxRvbaYDILRfbRPR8)"
      ]
    },
    {
      "cell_type": "markdown",
      "metadata": {
        "id": "k2TbrtpkDKCf",
        "colab_type": "text"
      },
      "source": [
        "Here is the car with motor setup and battery power.\n",
        "\n",
        "![alt text](https://drive.google.com/uc?id=1Jz27PFRd7CLC524b6OPJrqiqvlieS1b_)\n",
        "\n",
        "![alt text](https://drive.google.com/uc?id=1LQsxerijTHog5nP7tkvWK1vBc0DmJVCp)\n",
        "\n",
        "*I connected a simple On/Off switch and placed the battery pack at the base. Later in the project I switched out the battery pack pictured above and drew power straight from the L298N, which was powered by a separate 8AA pack.*"
      ]
    },
    {
      "cell_type": "markdown",
      "metadata": {
        "id": "uImP5GnRDKJO",
        "colab_type": "text"
      },
      "source": [
        "For testing I neglected any cable (wire) management and opted to squeeze everything under the FLIMSY plastic frame. Here's how it turned out without the shell attached (resting in background).\n",
        "\n",
        "![alt text](https://drive.google.com/uc?id=1Hfd_o7ZjdhfZmxTPOz9fdoIuhWI5cnQs)"
      ]
    },
    {
      "cell_type": "markdown",
      "metadata": {
        "id": "sRS8xnhgJYLS",
        "colab_type": "text"
      },
      "source": [
        "## Now let's look at some code..."
      ]
    },
    {
      "cell_type": "markdown",
      "metadata": {
        "id": "W9XarGKgMz2R",
        "colab_type": "text"
      },
      "source": [
        "To run all code I booted up a Remote Desktop and programmed locally on the RPi. There are numerous tutorials online to setup RPi RDC and PuTTY."
      ]
    },
    {
      "cell_type": "code",
      "metadata": {
        "id": "FRRoHrT6JobK",
        "colab_type": "code",
        "colab": {}
      },
      "source": [
        "# import libraries\n",
        "\n",
        "import RPi.GPIO as GPIO\n",
        "import time\n",
        "import curses"
      ],
      "execution_count": 0,
      "outputs": []
    },
    {
      "cell_type": "code",
      "metadata": {
        "id": "64Vy3s3_PPZH",
        "colab_type": "code",
        "colab": {}
      },
      "source": [
        "# I am using BOARD setup here. For BCM setup GPIO pins will need updated in below code\n",
        "\n",
        "GPIO.setmode(GPIO.BOARD)"
      ],
      "execution_count": 0,
      "outputs": []
    },
    {
      "cell_type": "code",
      "metadata": {
        "id": "WvObp-9gPfdX",
        "colab_type": "code",
        "colab": {}
      },
      "source": [
        "# PWM pins 12, 32, 33, 35\n",
        "\n",
        "GPIO.setup(33,GPIO.OUT, initial=0) # <-- initial set to 0\n",
        "GPIO.setup(35,GPIO.OUT, initial=0) # <-- to ensure motors will not run when RPi is turned on\n",
        "GPIO.setup(13,GPIO.OUT, initial=0) # <-- depending which pins are used\n",
        "GPIO.setup(15,GPIO.OUT, initial=0) # <-- initializing may not be needed"
      ],
      "execution_count": 0,
      "outputs": []
    },
    {
      "cell_type": "code",
      "metadata": {
        "id": "X-Vf1rQ8PulL",
        "colab_type": "code",
        "colab": {}
      },
      "source": [
        "# setup curses\n",
        "# to remove text from displaying in terminal when controlling car direction and movement, use noecho\n",
        "\n",
        "screen = curses.initscr()\n",
        "# curses.noecho() <-- remove comment depending on preference above\n",
        "\n",
        "curses.cbreak()\n",
        "curses.keypad(True)"
      ],
      "execution_count": 0,
      "outputs": []
    },
    {
      "cell_type": "code",
      "metadata": {
        "id": "sP2Nx_lKPut7",
        "colab_type": "code",
        "colab": {}
      },
      "source": [
        "# create variables for front and backwards control\n",
        "\n",
        "f = GPIO.PWM(33,100) # <-- note the PWM capable pins from above\n",
        "b = GPIO.PWM(35,100) # <-- set 100 for initial frequency"
      ],
      "execution_count": 0,
      "outputs": []
    },
    {
      "cell_type": "markdown",
      "metadata": {
        "id": "EaIcn35kQ2xs",
        "colab_type": "text"
      },
      "source": [
        "Quick reference on using PWM in RPi.GPIO\n",
        "\n",
        "https://sourceforge.net/p/raspberry-gpio-python/wiki/PWM/"
      ]
    },
    {
      "cell_type": "code",
      "metadata": {
        "id": "kKFLGVyFPuyH",
        "colab_type": "code",
        "colab": {}
      },
      "source": [
        "# start your engines!\n",
        "\n",
        "f.start(0) # starting at 0% duty cycle\n",
        "b.start(0)"
      ],
      "execution_count": 0,
      "outputs": []
    },
    {
      "cell_type": "code",
      "metadata": {
        "id": "pmTlQkpvPu10",
        "colab_type": "code",
        "colab": {}
      },
      "source": [
        "# it's a good idea to include a code break and print reminder keys (in addition to stopping the script)\n",
        "\n",
        "print('Press th [q] key to quit.')\n",
        "print('Press the [b] key to stop the car.')\n",
        "print('Press [Ctrl + c] to stop the script.')\n",
        "time.sleep(5) # <-- for us slow readers"
      ],
      "execution_count": 0,
      "outputs": []
    },
    {
      "cell_type": "markdown",
      "metadata": {
        "id": "budVoeRgU1ce",
        "colab_type": "text"
      },
      "source": [
        "### We'll be using try / finally for exception handling. \n",
        "\n",
        "*The try statement has another optional clause which is intended to define clean-up actions that must be executed under all circumstances.*\n",
        "\n",
        "*A finally clause is always executed before leaving the try statement, whether an exception has occurred or not. When an exception has occurred in the try clause and has not been handled by an except clause (or it has occurred in an except or else clause), it is re-raised after the finally clause has been executed. The finally clause is also executed “on the way out” when any other clause of the try statement is left via a break, continue or return statement.*\n",
        "\n",
        "Reference the documentation for additional information: https://docs.python.org/3/tutorial/errors.html"
      ]
    },
    {
      "cell_type": "code",
      "metadata": {
        "id": "kJ6KxdOfPu_D",
        "colab_type": "code",
        "colab": {}
      },
      "source": [
        "try:\n",
        "  while True: # <-- loop will run until broken\n",
        "    char == screen.getch()\n",
        "    if char == ord('q'):\n",
        "      break # code will break and move to finally\n",
        "    elif char == curses.KEY_DOWN:\n",
        "#     to adjust the value of duty cycle, use ChangeDutyCycle\n",
        "#     the value can be between 0% (LOW) and 100% (HIGH)\n",
        "      b.ChangeDutyCycle(30)\n",
        "      f.ChangeDutyCycle(0)\n",
        "#     although f is already set to 0%\n",
        "#     it is good practice to control DC of each variable when changing\n",
        "    elif char == curses.KEY_UP:\n",
        "      b.ChangeDutyCycle(0)\n",
        "      f.ChangeDutyCycle(30)\n",
        "    elif char == curses.KEY_LEFT:\n",
        "      GPIO.output(13,GPIO.HIGH)\n",
        "      GPIO.output(15,GPIO.LOW)\n",
        "    elif char == curses.KEY_RIGHT:\n",
        "      GPIO.output(13,GPIO.LOW)\n",
        "      GPIO.output(15,GPIO.HIGH)\n",
        "    elif char == ord('b'): # stops the car (like a car brake, not a code break)\n",
        "      b.ChangeDutyCycle(0)\n",
        "      f.ChangeDutyCycle(0)"
      ],
      "execution_count": 0,
      "outputs": []
    },
    {
      "cell_type": "code",
      "metadata": {
        "id": "lu_qg-MYUPg0",
        "colab_type": "code",
        "colab": {}
      },
      "source": [
        "# restore curses and prepare for shutdown (important for later)\n",
        "finally:\n",
        "  curses.nocbreak(); screen.keypad(0); curses.echo()\n",
        "#   echo may not be turned on if code from earlier is not altered\n",
        "  curses.endwin()"
      ],
      "execution_count": 0,
      "outputs": []
    },
    {
      "cell_type": "code",
      "metadata": {
        "id": "cxQ0VY6nUIcT",
        "colab_type": "code",
        "colab": {}
      },
      "source": [
        "# clean up GPIO pins for later\n",
        "  GPIO.cleanup()"
      ],
      "execution_count": 0,
      "outputs": []
    },
    {
      "cell_type": "markdown",
      "metadata": {
        "id": "SGaU0sVFYX_T",
        "colab_type": "text"
      },
      "source": [
        "### Put all your code together and run it on remote desktop of PuTTY."
      ]
    },
    {
      "cell_type": "markdown",
      "metadata": {
        "id": "qWx5JsJRJpsR",
        "colab_type": "text"
      },
      "source": [
        "## CHEERS!"
      ]
    },
    {
      "cell_type": "markdown",
      "metadata": {
        "id": "dvvOrFMv2iMg",
        "colab_type": "text"
      },
      "source": [
        "![alt text](https://drive.google.com/uc?id=14U5ae88hkDFiQQ180zMkSYBTfbZJnuM0)"
      ]
    },
    {
      "cell_type": "markdown",
      "metadata": {
        "id": "v7hWv4Y8F9Si",
        "colab_type": "text"
      },
      "source": [
        "### In the next update, I'll be attaching Ultrasonic Distance sensors and for object detection and avoidance, as well as a camera for video streaming and maybe a few other fun things!"
      ]
    },
    {
      "cell_type": "markdown",
      "metadata": {
        "id": "eo-Oa0B8J0Bf",
        "colab_type": "text"
      },
      "source": [
        "## Products and useful links."
      ]
    },
    {
      "cell_type": "markdown",
      "metadata": {
        "id": "ownGUtebFpNS",
        "colab_type": "text"
      },
      "source": [
        "Starter pack for RPi 3 Model B+\n",
        "\n",
        "![alt text](https://drive.google.com/uc?id=1XhA91JFZu5y7KHNW8_BNEc6swgoK9fKl)"
      ]
    },
    {
      "cell_type": "markdown",
      "metadata": {
        "id": "pE2ZQRx0aVyx",
        "colab_type": "text"
      },
      "source": [
        "### Products Used:\n",
        "\n",
        "Cooling Fan:\n",
        "https://www.amazon.com/gp/product/B07D3TVVC7/ref=ppx_yo_dt_b_asin_title_o04_s00?ie=UTF8&psc=1\n",
        "\n",
        "On Off Switch:\n",
        "https://www.amazon.com/gp/product/B01N2U8PK0/ref=ppx_yo_dt_b_asin_title_o09_s01?ie=UTF8&psc=1\n",
        "\n",
        "L298N Motor Driver Controller:\n",
        "https://www.amazon.com/gp/product/B00XAGRQTO/ref=ppx_yo_dt_b_asin_title_o02_s00?ie=UTF8&psc=1\n",
        "\n",
        "CanaKit RPi 3 B+:\n",
        "https://www.amazon.com/gp/product/B07BC567TW/ref=ppx_yo_dt_b_asin_title_o05_s02?ie=UTF8&psc=1\n",
        "\n",
        "8 AA 12V Battery Case:\n",
        "https://www.amazon.com/gp/product/B00VE7HBMS/ref=ppx_yo_dt_b_asin_title_o09_s00?ie=UTF8&psc=1\n",
        "\n",
        "*Some pictures are taken directly from Amazon and/or reference links. Do not claim ownership.*"
      ]
    },
    {
      "cell_type": "markdown",
      "metadata": {
        "id": "3VDBa8-Hr3xY",
        "colab_type": "text"
      },
      "source": [
        "### Useful Links:\n",
        "\n",
        "Raspberry gPIo (RPi.GPIO API): https://learn.sparkfun.com/tutorials/raspberry-gpio/python-rpigpio-api\n",
        "\n",
        "Resistor for LED (Resistor Guide): http://www.resistorguide.com/resistor-for-led/\n",
        "\n",
        "RPi.GPIO Basics: https://raspi.tv/2013/rpi-gpio-basics-5-setting-up-and-using-outputs-with-rpi-gpio\n",
        "\n",
        "Here is some documentation on the L298N and PWM setup.\n",
        "\n",
        "https://www.theengineeringprojects.com/2017/07/introduction-to-l298.html\n",
        "\n",
        "https://learn.sparkfun.com/tutorials/raspberry-gpio/python-rpigpio-api\n"
      ]
    },
    {
      "cell_type": "markdown",
      "metadata": {
        "id": "pgCW5MJGYqFT",
        "colab_type": "text"
      },
      "source": [
        "*2019-08-05: I utilized many resources throughout this build. I have tried to include all for reference. Additional resources may be added at a later date.*"
      ]
    }
  ]
}