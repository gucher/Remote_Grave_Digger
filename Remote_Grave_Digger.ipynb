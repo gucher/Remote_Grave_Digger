{
  "nbformat": 4,
  "nbformat_minor": 0,
  "metadata": {
    "colab": {
      "name": "Remote_Grave_Digger.ipynb",
      "version": "0.3.2",
      "provenance": [],
      "collapsed_sections": [],
      "include_colab_link": true
    },
    "kernelspec": {
      "name": "python3",
      "display_name": "Python 3"
    }
  },
  "cells": [
    {
      "cell_type": "markdown",
      "metadata": {
        "id": "view-in-github",
        "colab_type": "text"
      },
      "source": [
        "<a href=\"https://colab.research.google.com/github/gucher/Remote_Grave_Digger/blob/master/Remote_Grave_Digger.ipynb\" target=\"_parent\"><img src=\"https://colab.research.google.com/assets/colab-badge.svg\" alt=\"Open In Colab\"/></a>"
      ]
    },
    {
      "cell_type": "markdown",
      "metadata": {
        "id": "fnwoVucrRvXd",
        "colab_type": "text"
      },
      "source": [
        "# How I built a remote controlled Grave Digger with a Raspberry Pi"
      ]
    },
    {
      "cell_type": "markdown",
      "metadata": {
        "id": "FfkU-6ZAR9bS",
        "colab_type": "text"
      },
      "source": [
        "*This is part 1 of a series in which I take a standard RC car and add numerous technology and software upgrades in pursuit of a fully autonomous Grave Digger.*\n",
        "\n",
        "*I am a BEGINNER in DIY electronic and robotics, this post is not intended as a tutorial or to be used for advice.*"
      ]
    },
    {
      "cell_type": "markdown",
      "metadata": {
        "id": "19N-4EOAvVAd",
        "colab_type": "text"
      },
      "source": [
        "*In Part 1 we will explore:*\n",
        "\n",
        "*   Deconstruction\n",
        "*   Wiring and framework\n",
        "*   Battery source\n",
        "*   Powering external components\n",
        "*   Python & curses library\n",
        "*   Motor and speed control (PWM)"
      ]
    },
    {
      "cell_type": "markdown",
      "metadata": {
        "id": "Vk_jp_wjYi0a",
        "colab_type": "text"
      },
      "source": [
        "## Original Car"
      ]
    },
    {
      "cell_type": "code",
      "metadata": {
        "id": "vRIUbK5n08L9",
        "colab_type": "code",
        "colab": {
          "base_uri": "https://localhost:8080/",
          "height": 396
        },
        "outputId": "e8089876-b3d6-4079-aa73-4b41a29f2b0d"
      },
      "source": [
        "%%html\n",
        "\n",
        "<img src=https://drive.google.com/uc?id=13omzro0UhENkenbvYvJRBl4YPV9l8G-u width=\"500\">"
      ],
      "execution_count": 8,
      "outputs": [
        {
          "output_type": "display_data",
          "data": {
            "text/html": [
              "\n",
              "<img src=https://drive.google.com/uc?id=13omzro0UhENkenbvYvJRBl4YPV9l8G-u width=\"500\">"
            ],
            "text/plain": [
              "<IPython.core.display.HTML object>"
            ]
          },
          "metadata": {
            "tags": []
          }
        }
      ]
    },
    {
      "cell_type": "markdown",
      "metadata": {
        "id": "iYaae_S5SDRy",
        "colab_type": "text"
      },
      "source": [
        "#### At first I was looking to find a smaller car with a wide range of motion, but I laid eyes on this beauty at Big Lots and couldn't resist the sale price of $20.\n",
        "\n",
        "For those who don't know, here is the real Grave Digger."
      ]
    },
    {
      "cell_type": "code",
      "metadata": {
        "id": "VWjUcpT80my7",
        "colab_type": "code",
        "colab": {
          "base_uri": "https://localhost:8080/",
          "height": 354
        },
        "outputId": "fbc91f15-c63d-4667-c7da-fbb9b1f7201e"
      },
      "source": [
        "%%html\n",
        "<img src=https://drive.google.com/uc?id=1f-T7IcAiLXY8NO_C5GRtvi9bUZGeRYVq width=\"500\">"
      ],
      "execution_count": 6,
      "outputs": [
        {
          "output_type": "display_data",
          "data": {
            "text/html": [
              "\n",
              "<img src=https://drive.google.com/uc?id=1f-T7IcAiLXY8NO_C5GRtvi9bUZGeRYVq width=\"500\">\n"
            ],
            "text/plain": [
              "<IPython.core.display.HTML object>"
            ]
          },
          "metadata": {
            "tags": []
          }
        }
      ]
    },
    {
      "cell_type": "markdown",
      "metadata": {
        "id": "01pPgYLNYs_G",
        "colab_type": "text"
      },
      "source": [
        "## Deconstruction"
      ]
    },
    {
      "cell_type": "markdown",
      "metadata": {
        "id": "o1IbcQ7fZ1hh",
        "colab_type": "text"
      },
      "source": [
        "Removing the body exposes a plastic frame and two sets of wiring to the front and rear axles."
      ]
    },
    {
      "cell_type": "code",
      "metadata": {
        "id": "6kn4mzAD1KcA",
        "colab_type": "code",
        "colab": {
          "base_uri": "https://localhost:8080/",
          "height": 396
        },
        "outputId": "0fa8e534-2334-43ec-bd49-a4719fa42650"
      },
      "source": [
        "%%html\n",
        "<img src=https://drive.google.com/uc?id=1Jt_gmCn6PJC8Fm7YF5gisILsQaJpuvX4 width=\"500\">"
      ],
      "execution_count": 10,
      "outputs": [
        {
          "output_type": "display_data",
          "data": {
            "text/html": [
              "<img src=https://drive.google.com/uc?id=1Jt_gmCn6PJC8Fm7YF5gisILsQaJpuvX4 width=\"500\">"
            ],
            "text/plain": [
              "<IPython.core.display.HTML object>"
            ]
          },
          "metadata": {
            "tags": []
          }
        }
      ]
    },
    {
      "cell_type": "markdown",
      "metadata": {
        "id": "nKfss7baYw-E",
        "colab_type": "text"
      },
      "source": [
        "The bottom of the car holds a battery pack with power on/off switch. Front and rear axles are removable."
      ]
    },
    {
      "cell_type": "code",
      "metadata": {
        "id": "xh7u_B4t1vaV",
        "colab_type": "code",
        "colab": {
          "base_uri": "https://localhost:8080/",
          "height": 396
        },
        "outputId": "5106d5bc-efeb-4ede-ea53-76a735ae08ac"
      },
      "source": [
        "%%html\n",
        "<img src=https://drive.google.com/uc?id=1h5xrLZJFlOmDnFv1xUKZjXejvJf3xGiU width=\"500\">"
      ],
      "execution_count": 11,
      "outputs": [
        {
          "output_type": "display_data",
          "data": {
            "text/html": [
              "<img src=https://drive.google.com/uc?id=1h5xrLZJFlOmDnFv1xUKZjXejvJf3xGiU width=\"500\">"
            ],
            "text/plain": [
              "<IPython.core.display.HTML object>"
            ]
          },
          "metadata": {
            "tags": []
          }
        }
      ]
    },
    {
      "cell_type": "markdown",
      "metadata": {
        "id": "_qNj7c1zBKHX",
        "colab_type": "text"
      },
      "source": [
        "Default controller hooked up to battery pack and DC motors."
      ]
    },
    {
      "cell_type": "code",
      "metadata": {
        "id": "musMkBJ512xO",
        "colab_type": "code",
        "colab": {
          "base_uri": "https://localhost:8080/",
          "height": 396
        },
        "outputId": "f2ca96df-6d7d-4038-b70d-c8861a69df90"
      },
      "source": [
        "%%html\n",
        "<img src=https://drive.google.com/uc?id=12mlGh7Xx7VV-Azu4HwA2Kw8vAb2Jw79m width=\"500\">"
      ],
      "execution_count": 12,
      "outputs": [
        {
          "output_type": "display_data",
          "data": {
            "text/html": [
              "<img src=https://drive.google.com/uc?id=12mlGh7Xx7VV-Azu4HwA2Kw8vAb2Jw79m width=\"500\">"
            ],
            "text/plain": [
              "<IPython.core.display.HTML object>"
            ]
          },
          "metadata": {
            "tags": []
          }
        }
      ]
    },
    {
      "cell_type": "markdown",
      "metadata": {
        "id": "5v92EqRrBZA0",
        "colab_type": "text"
      },
      "source": [
        "Starting to remove extra parts and components.\n",
        "\n",
        "*I explored the idea of switching to new tires but decided against it as the project went on.*"
      ]
    },
    {
      "cell_type": "code",
      "metadata": {
        "id": "Ln-9TOws2B28",
        "colab_type": "code",
        "colab": {
          "base_uri": "https://localhost:8080/",
          "height": 396
        },
        "outputId": "4c3d7eea-0fc2-4e06-8964-f357db5d95eb"
      },
      "source": [
        "%%html\n",
        "<img src=https://drive.google.com/uc?id=19-H_gTRc5r_uFdRB3mRfajZYaxSFyaWi width=\"500\">"
      ],
      "execution_count": 13,
      "outputs": [
        {
          "output_type": "display_data",
          "data": {
            "text/html": [
              "<img src=https://drive.google.com/uc?id=19-H_gTRc5r_uFdRB3mRfajZYaxSFyaWi width=\"500\">"
            ],
            "text/plain": [
              "<IPython.core.display.HTML object>"
            ]
          },
          "metadata": {
            "tags": []
          }
        }
      ]
    },
    {
      "cell_type": "markdown",
      "metadata": {
        "id": "N7OcBjBdDcs2",
        "colab_type": "text"
      },
      "source": [
        "Here's the RC car broken down. I was surprised with how simple these cheap RC cars are... They consist of very basic part and components."
      ]
    },
    {
      "cell_type": "code",
      "metadata": {
        "id": "3Cx8Exq72Cut",
        "colab_type": "code",
        "colab": {
          "base_uri": "https://localhost:8080/",
          "height": 396
        },
        "outputId": "d068de7f-fa86-4416-dea8-31d9e47c338d"
      },
      "source": [
        "%%html\n",
        "<img src=https://drive.google.com/uc?id=1ZXl4hqj67dI5kv8Kw42NUoPqW9bTbX2c width=\"500\">"
      ],
      "execution_count": 14,
      "outputs": [
        {
          "output_type": "display_data",
          "data": {
            "text/html": [
              "<img src=https://drive.google.com/uc?id=1ZXl4hqj67dI5kv8Kw42NUoPqW9bTbX2c width=\"500\">"
            ],
            "text/plain": [
              "<IPython.core.display.HTML object>"
            ]
          },
          "metadata": {
            "tags": []
          }
        }
      ]
    },
    {
      "cell_type": "markdown",
      "metadata": {
        "id": "y4MKODQ1BZHG",
        "colab_type": "text"
      },
      "source": [
        "To determine which GPIO pins control F/B and L/R control, I used an extra DC motor for testing."
      ]
    },
    {
      "cell_type": "code",
      "metadata": {
        "id": "UHFQEUQT2Eh6",
        "colab_type": "code",
        "colab": {
          "base_uri": "https://localhost:8080/",
          "height": 396
        },
        "outputId": "e625c740-d175-445e-dbff-ebf9897a7424"
      },
      "source": [
        "%%html\n",
        "<img src=https://drive.google.com/uc?id=1Q-495oJAm4tE2RNQASTLMjkM5kY-43Y3 width=\"500\">"
      ],
      "execution_count": 15,
      "outputs": [
        {
          "output_type": "display_data",
          "data": {
            "text/html": [
              "<img src=https://drive.google.com/uc?id=1Q-495oJAm4tE2RNQASTLMjkM5kY-43Y3 width=\"500\">"
            ],
            "text/plain": [
              "<IPython.core.display.HTML object>"
            ]
          },
          "metadata": {
            "tags": []
          }
        }
      ]
    },
    {
      "cell_type": "markdown",
      "metadata": {
        "id": "2TqZ27A2BZJo",
        "colab_type": "text"
      },
      "source": [
        "*I am not an electonics expert (this is my first real project), so I relied on tutorials and infographics a lot.*"
      ]
    },
    {
      "cell_type": "markdown",
      "metadata": {
        "id": "nAa4fJvZBZL3",
        "colab_type": "text"
      },
      "source": [
        "Setup for controlling a DC motor with L298N."
      ]
    },
    {
      "cell_type": "code",
      "metadata": {
        "id": "ZQ4SYyqC2F-F",
        "colab_type": "code",
        "colab": {
          "base_uri": "https://localhost:8080/",
          "height": 524
        },
        "outputId": "0a02aec6-d8b9-482e-8740-5959d9df2c73"
      },
      "source": [
        "%%html\n",
        "<img src=https://drive.google.com/uc?id=1ViGeNgD4M08J_eAbHheEs4iY6LE7O7e2 width=\"500\">"
      ],
      "execution_count": 16,
      "outputs": [
        {
          "output_type": "display_data",
          "data": {
            "text/html": [
              "<img src=https://drive.google.com/uc?id=1ViGeNgD4M08J_eAbHheEs4iY6LE7O7e2 width=\"500\">"
            ],
            "text/plain": [
              "<IPython.core.display.HTML object>"
            ]
          },
          "metadata": {
            "tags": []
          }
        }
      ]
    },
    {
      "cell_type": "markdown",
      "metadata": {
        "id": "2kYxkgiCCh9T",
        "colab_type": "text"
      },
      "source": [
        "To lower the speed at which the rear motor cycles, I used PWM (Pulse Width Modulation) capable GPIO pins."
      ]
    },
    {
      "cell_type": "code",
      "metadata": {
        "id": "iNSLGW3v2HZn",
        "colab_type": "code",
        "colab": {
          "base_uri": "https://localhost:8080/",
          "height": 274
        },
        "outputId": "09a9bbcb-1d04-4bf0-da78-b898da2ae008"
      },
      "source": [
        "%%html\n",
        "<img src=https://drive.google.com/uc?id=1aooWqVkVjGv4NIorVhxvBA799YnOCFoi width=\"500\">"
      ],
      "execution_count": 17,
      "outputs": [
        {
          "output_type": "display_data",
          "data": {
            "text/html": [
              "<img src=https://drive.google.com/uc?id=1aooWqVkVjGv4NIorVhxvBA799YnOCFoi width=\"500\">"
            ],
            "text/plain": [
              "<IPython.core.display.HTML object>"
            ]
          },
          "metadata": {
            "tags": []
          }
        }
      ]
    },
    {
      "cell_type": "markdown",
      "metadata": {
        "id": "DJYFU0ivDI5a",
        "colab_type": "text"
      },
      "source": [
        "Once the L298N was wired to front and rear motors, I affixed a rectangle of cardboard to the bottom as a placeholder to rest all the components on."
      ]
    },
    {
      "cell_type": "code",
      "metadata": {
        "id": "dUW-a8O42INw",
        "colab_type": "code",
        "colab": {
          "base_uri": "https://localhost:8080/",
          "height": 396
        },
        "outputId": "f21a98ea-bb6b-4992-ff8e-25b4682f24c7"
      },
      "source": [
        "%%html\n",
        "<img src=https://drive.google.com/uc?id=1dle7K6xfJX2IS-xWxRvbaYDILRfbRPR8 width=\"500\">"
      ],
      "execution_count": 18,
      "outputs": [
        {
          "output_type": "display_data",
          "data": {
            "text/html": [
              "<img src=https://drive.google.com/uc?id=1dle7K6xfJX2IS-xWxRvbaYDILRfbRPR8 width=\"500\">"
            ],
            "text/plain": [
              "<IPython.core.display.HTML object>"
            ]
          },
          "metadata": {
            "tags": []
          }
        }
      ]
    },
    {
      "cell_type": "markdown",
      "metadata": {
        "id": "k2TbrtpkDKCf",
        "colab_type": "text"
      },
      "source": [
        "Here is the car with motor setup and battery power."
      ]
    },
    {
      "cell_type": "code",
      "metadata": {
        "id": "fL67w9b82KCt",
        "colab_type": "code",
        "colab": {
          "base_uri": "https://localhost:8080/",
          "height": 396
        },
        "outputId": "9df3f08e-86cd-4056-c8f8-51dd13b7f80a"
      },
      "source": [
        "%%html\n",
        "<img src=https://drive.google.com/uc?id=1Jz27PFRd7CLC524b6OPJrqiqvlieS1b_ width=\"500\">"
      ],
      "execution_count": 19,
      "outputs": [
        {
          "output_type": "display_data",
          "data": {
            "text/html": [
              "<img src=https://drive.google.com/uc?id=1Jz27PFRd7CLC524b6OPJrqiqvlieS1b_ width=\"500\">"
            ],
            "text/plain": [
              "<IPython.core.display.HTML object>"
            ]
          },
          "metadata": {
            "tags": []
          }
        }
      ]
    },
    {
      "cell_type": "markdown",
      "metadata": {
        "id": "qC1a-GJ73Igh",
        "colab_type": "text"
      },
      "source": [
        "*I connected a simple On/Off switch and placed the battery pack at the base. Later in the project I switched out the battery pack pictured above and drew power straight from the L298N, which was powered by a separate 8AA pack.*"
      ]
    },
    {
      "cell_type": "code",
      "metadata": {
        "id": "nvCf05NJ3CN7",
        "colab_type": "code",
        "colab": {
          "base_uri": "https://localhost:8080/",
          "height": 396
        },
        "outputId": "c9c8d25f-36a4-4da1-adf5-4f58bc24cfe0"
      },
      "source": [
        "%%html\n",
        "<img src=https://drive.google.com/uc?id=1LQsxerijTHog5nP7tkvWK1vBc0DmJVCp width=\"500\">"
      ],
      "execution_count": 20,
      "outputs": [
        {
          "output_type": "display_data",
          "data": {
            "text/html": [
              "<img src=https://drive.google.com/uc?id=1LQsxerijTHog5nP7tkvWK1vBc0DmJVCp width=\"500\">"
            ],
            "text/plain": [
              "<IPython.core.display.HTML object>"
            ]
          },
          "metadata": {
            "tags": []
          }
        }
      ]
    },
    {
      "cell_type": "markdown",
      "metadata": {
        "id": "uImP5GnRDKJO",
        "colab_type": "text"
      },
      "source": [
        "For testing, I neglected any cable (wire) management and opted to squeeze everything under the FLIMSY plastic frame. Here's how it turned out without the shell attached (resting in background).\n",
        "\n",
        "*UPDATE: As noted at the end, this posed a serious issue for airflow and adding additional components (distance sensors, LEDs, camera). The RPi 3 B+ was swtiched out for a RPiZ and 8AA power for external 5V (same component for charing cell phones).*"
      ]
    },
    {
      "cell_type": "code",
      "metadata": {
        "id": "f1u8QEtt2MeC",
        "colab_type": "code",
        "colab": {
          "base_uri": "https://localhost:8080/",
          "height": 480
        },
        "outputId": "5c2185ee-0e0b-49c5-c10a-ce84e65b4fc8"
      },
      "source": [
        "%%html\n",
        "<img src=https://drive.google.com/uc?id=1Hfd_o7ZjdhfZmxTPOz9fdoIuhWI5cnQs width=\"500\">"
      ],
      "execution_count": 21,
      "outputs": [
        {
          "output_type": "display_data",
          "data": {
            "text/html": [
              "<img src=https://drive.google.com/uc?id=1Hfd_o7ZjdhfZmxTPOz9fdoIuhWI5cnQs width=\"500\">"
            ],
            "text/plain": [
              "<IPython.core.display.HTML object>"
            ]
          },
          "metadata": {
            "tags": []
          }
        }
      ]
    },
    {
      "cell_type": "markdown",
      "metadata": {
        "id": "sRS8xnhgJYLS",
        "colab_type": "text"
      },
      "source": [
        "## Now let's look at some code..."
      ]
    },
    {
      "cell_type": "markdown",
      "metadata": {
        "id": "W9XarGKgMz2R",
        "colab_type": "text"
      },
      "source": [
        "To run all code I booted up a Remote Desktop and programmed locally on the RPi. There are numerous tutorials online to setup RPi RDC and PuTTY."
      ]
    },
    {
      "cell_type": "code",
      "metadata": {
        "id": "FRRoHrT6JobK",
        "colab_type": "code",
        "colab": {}
      },
      "source": [
        "# import libraries\n",
        "\n",
        "import RPi.GPIO as GPIO\n",
        "import time\n",
        "\n",
        "# curses is used to read (echo) which keys are being pressed\n",
        "# the keys are then assigned to control each motor via the L298N\n",
        "# once the key is captured and the signal is sent to the motor, the car will\n",
        "# power that motor\n",
        "# this can be as simple or complex as desired\n",
        "# for my first car, I went with the simplest approach\n",
        "# PWM is not necessary but I knew I eventually wanted to make this autonomous\n",
        "# and i didn't want the car running into a wall at full speed\n",
        "import curses"
      ],
      "execution_count": 0,
      "outputs": []
    },
    {
      "cell_type": "code",
      "metadata": {
        "id": "64Vy3s3_PPZH",
        "colab_type": "code",
        "colab": {}
      },
      "source": [
        "# I am using BOARD setup here\n",
        "# For BCM setup GPIO pins will need updated in below code\n",
        "\n",
        "GPIO.setmode(GPIO.BOARD)"
      ],
      "execution_count": 0,
      "outputs": []
    },
    {
      "cell_type": "code",
      "metadata": {
        "id": "WvObp-9gPfdX",
        "colab_type": "code",
        "colab": {}
      },
      "source": [
        "# PWM pins 12, 32, 33, 35\n",
        "# PWM is only needed for forward and reverse\n",
        "# setup intializes the pins as either input or output\n",
        "# initial sets the pin to not output at setup, otherwise\n",
        "# when powering up the car, a pin will continue\n",
        "# to output until told otherwise\n",
        "\n",
        "GPIO.setup(33,GPIO.OUT, initial=0) # <-- initial set to 0\n",
        "GPIO.setup(35,GPIO.OUT, initial=0) # <-- to ensure motors will not run when RPi is turned on\n",
        "GPIO.setup(13,GPIO.OUT, initial=0) # <-- depending which pins are used\n",
        "GPIO.setup(15,GPIO.OUT, initial=0) # <-- initializing may not be needed"
      ],
      "execution_count": 0,
      "outputs": []
    },
    {
      "cell_type": "code",
      "metadata": {
        "id": "X-Vf1rQ8PulL",
        "colab_type": "code",
        "colab": {}
      },
      "source": [
        "# setup curses\n",
        "# to remove text from displaying in terminal\n",
        "# when controlling car direction and movement,\n",
        "# use curses.noecho()\n",
        "\n",
        "screen = curses.initscr()\n",
        "# curses.noecho() <-- remove comment depending on preference above\n",
        "\n",
        "curses.cbreak()\n",
        "curses.keypad(True)"
      ],
      "execution_count": 0,
      "outputs": []
    },
    {
      "cell_type": "code",
      "metadata": {
        "id": "sP2Nx_lKPut7",
        "colab_type": "code",
        "colab": {}
      },
      "source": [
        "# create variables for front and backwards control\n",
        "# these pins were determined to control forward and backwards\n",
        "# when testing with a DC motor\n",
        "# the pin # should be used for PWM\n",
        "# but the wiring may be different on other cars/DC motors\n",
        "\n",
        "f = GPIO.PWM(33,100) # <-- note the PWM capable pins from above\n",
        "b = GPIO.PWM(35,100) # <-- set 100 for initial frequency"
      ],
      "execution_count": 0,
      "outputs": []
    },
    {
      "cell_type": "markdown",
      "metadata": {
        "id": "EaIcn35kQ2xs",
        "colab_type": "text"
      },
      "source": [
        "Quick reference on using PWM in RPi.GPIO\n",
        "\n",
        "https://sourceforge.net/p/raspberry-gpio-python/wiki/PWM/"
      ]
    },
    {
      "cell_type": "code",
      "metadata": {
        "id": "kKFLGVyFPuyH",
        "colab_type": "code",
        "colab": {}
      },
      "source": [
        "# start your engines!\n",
        "\n",
        "f.start(0) # starting at 0% duty cycle\n",
        "b.start(0)\n",
        "\n",
        "# while pin setup was initialized at 0\n",
        "# I wanted to set duty cycle to 0% to start\n",
        "# for an autonomous vehicle\n",
        "# the duty cycle may be set to default at x%"
      ],
      "execution_count": 0,
      "outputs": []
    },
    {
      "cell_type": "code",
      "metadata": {
        "id": "pmTlQkpvPu10",
        "colab_type": "code",
        "colab": {}
      },
      "source": [
        "# it's a good idea to include a code break and\n",
        "# print reminder keys (in addition to stopping the script)\n",
        "\n",
        "print('Press the [q] key to quit.')\n",
        "print('Press the [b] key to stop the car.')\n",
        "print('Press [Ctrl + c] to stop the script.')\n",
        "time.sleep(5) # <-- for us slow readers"
      ],
      "execution_count": 0,
      "outputs": []
    },
    {
      "cell_type": "markdown",
      "metadata": {
        "id": "budVoeRgU1ce",
        "colab_type": "text"
      },
      "source": [
        "### Use try / finally for exception handling. \n",
        "\n",
        "*The try statement has another optional clause which is intended to define clean-up actions that must be executed under all circumstances.*\n",
        "\n",
        "*A finally clause is always executed before leaving the try statement, whether an exception has occurred or not. When an exception has occurred in the try clause and has not been handled by an except clause (or it has occurred in an except or else clause), it is re-raised after the finally clause has been executed. The finally clause is also executed “on the way out” when any other clause of the try statement is left via a break, continue or return statement.*\n",
        "\n",
        "Reference the documentation: https://docs.python.org/3/tutorial/errors.html"
      ]
    },
    {
      "cell_type": "code",
      "metadata": {
        "id": "kJ6KxdOfPu_D",
        "colab_type": "code",
        "colab": {}
      },
      "source": [
        "try:\n",
        "  while True: # <-- loop will run until broken\n",
        "    char == screen.getch()\n",
        "    if char == ord('q'):\n",
        "      break # code will break and move to finally\n",
        "    elif char == curses.KEY_DOWN:\n",
        "#     to adjust the value of duty cycle, use ChangeDutyCycle\n",
        "#     the value can be between 0% (LOW) and 100% (HIGH)\n",
        "      b.ChangeDutyCycle(30)\n",
        "      f.ChangeDutyCycle(0)\n",
        "#     although f is already set to 0%\n",
        "#     it is good practice to control DC of each variable when changing\n",
        "    elif char == curses.KEY_UP:\n",
        "      b.ChangeDutyCycle(0)\n",
        "      f.ChangeDutyCycle(30)\n",
        "    elif char == curses.KEY_LEFT:\n",
        "      GPIO.output(13,GPIO.HIGH)\n",
        "      GPIO.output(15,GPIO.LOW)\n",
        "    elif char == curses.KEY_RIGHT:\n",
        "      GPIO.output(13,GPIO.LOW)\n",
        "      GPIO.output(15,GPIO.HIGH)\n",
        "    elif char == ord('b'): # stops the car (like a car brake, not a code break)\n",
        "      b.ChangeDutyCycle(0)\n",
        "      f.ChangeDutyCycle(0)"
      ],
      "execution_count": 0,
      "outputs": []
    },
    {
      "cell_type": "code",
      "metadata": {
        "id": "lu_qg-MYUPg0",
        "colab_type": "code",
        "colab": {}
      },
      "source": [
        "# restore curses and prepare for shutdown\n",
        "finally:\n",
        "  curses.nocbreak(); screen.keypad(0); curses.echo()\n",
        "#   echo may not be turned on if code from earlier is not altered\n",
        "  curses.endwin()"
      ],
      "execution_count": 0,
      "outputs": []
    },
    {
      "cell_type": "code",
      "metadata": {
        "id": "cxQ0VY6nUIcT",
        "colab_type": "code",
        "colab": {}
      },
      "source": [
        "# clean up GPIO pins for later\n",
        "  GPIO.cleanup()"
      ],
      "execution_count": 0,
      "outputs": []
    },
    {
      "cell_type": "markdown",
      "metadata": {
        "id": "SGaU0sVFYX_T",
        "colab_type": "text"
      },
      "source": [
        "### Put all your code together and run it on remote desktop or PuTTY."
      ]
    },
    {
      "cell_type": "markdown",
      "metadata": {
        "id": "qWx5JsJRJpsR",
        "colab_type": "text"
      },
      "source": [
        "## CHEERS!"
      ]
    },
    {
      "cell_type": "code",
      "metadata": {
        "id": "5-v4D-OY2PHl",
        "colab_type": "code",
        "colab": {
          "base_uri": "https://localhost:8080/",
          "height": 646
        },
        "outputId": "d620624d-0525-4525-d24d-af09defdbff9"
      },
      "source": [
        "%%html\n",
        "<img src=https://drive.google.com/uc?id=14U5ae88hkDFiQQ180zMkSYBTfbZJnuM0 width=\"500\">"
      ],
      "execution_count": 22,
      "outputs": [
        {
          "output_type": "display_data",
          "data": {
            "text/html": [
              "<img src=https://drive.google.com/uc?id=14U5ae88hkDFiQQ180zMkSYBTfbZJnuM0 width=\"500\">"
            ],
            "text/plain": [
              "<IPython.core.display.HTML object>"
            ]
          },
          "metadata": {
            "tags": []
          }
        }
      ]
    },
    {
      "cell_type": "markdown",
      "metadata": {
        "id": "2fIE0o0rYqg5",
        "colab_type": "text"
      },
      "source": [
        "### [UPDATE]"
      ]
    },
    {
      "cell_type": "markdown",
      "metadata": {
        "id": "mMHFbpqTRcxS",
        "colab_type": "text"
      },
      "source": [
        "A 1xin square is cut-out on the top body and small 5V fan attached inside. The hack-job to the right is a slit for the camera.\n",
        "\n",
        "Since I didn't want to take up another 5V port from the GPIO breakout, I rigged up a 9V battery cable to a regulator to get 5V output. This is not a recommended solution -- soldering or splitting and reclamping wires is much safer."
      ]
    },
    {
      "cell_type": "code",
      "metadata": {
        "id": "YyhSs1VJ2QmT",
        "colab_type": "code",
        "colab": {
          "base_uri": "https://localhost:8080/",
          "height": 396
        },
        "outputId": "c9cf7843-9d0c-4fac-9f5d-8ef0bc5ebf23"
      },
      "source": [
        "%%html\n",
        "<img src=https://drive.google.com/uc?id=1RnHmGiD4Ku5y-CM6HOKESwBnlTe0IQwW width=\"500\">"
      ],
      "execution_count": 23,
      "outputs": [
        {
          "output_type": "display_data",
          "data": {
            "text/html": [
              "<img src=https://drive.google.com/uc?id=1RnHmGiD4Ku5y-CM6HOKESwBnlTe0IQwW width=\"500\">"
            ],
            "text/plain": [
              "<IPython.core.display.HTML object>"
            ]
          },
          "metadata": {
            "tags": []
          }
        }
      ]
    },
    {
      "cell_type": "markdown",
      "metadata": {
        "id": "W3LpijBnR0XB",
        "colab_type": "text"
      },
      "source": [
        "My DIY solution works great for small devices that need 5V but please do not follow the makeshift wiring. And DO NOT use expired batteries (I found a 2008 9V that I tested... bad idea).\n",
        "\n",
        "WARNING!\n",
        "\n",
        "**** THE REGULATOR WILL GET VERY HOT ****\n",
        "\n",
        "**** NEVER USE AN EXPIRED BATTERY ****\n",
        "\n",
        "For a better and safer DIY solution, check out this YouTube video:\n",
        "https://www.youtube.com/watch?v=8W-zdo1AVns"
      ]
    },
    {
      "cell_type": "markdown",
      "metadata": {
        "id": "sgPpOyf8ZFj9",
        "colab_type": "text"
      },
      "source": [
        "#### Switch to Raspberry Pi Zero"
      ]
    },
    {
      "cell_type": "markdown",
      "metadata": {
        "id": "-uerhj0qRBiq",
        "colab_type": "text"
      },
      "source": [
        "\n",
        "\n",
        "The RPi 3 was taking up too much space and there wasn't enough airflow for the components -- *without compromising the asthetic of Grave Digger's body* -- so a switch to the RPi Zero was made.\n",
        "\n",
        "The RPiZ is much sleeker and is capable of running our code and output to hardware without issues.\n",
        "\n",
        "Pictured below is the updated setup with a camera and ultrasonic distance sensor. In the next update, I'll be reviewing each of these components and much more. Stay tuned!"
      ]
    },
    {
      "cell_type": "code",
      "metadata": {
        "id": "jycVlGub2ST3",
        "colab_type": "code",
        "colab": {
          "base_uri": "https://localhost:8080/",
          "height": 396
        },
        "outputId": "284fcd11-ac4b-4bac-b706-338f82569d4d"
      },
      "source": [
        "%%html\n",
        "<img src=https://drive.google.com/uc?id=1ddTlvnJEdIEpSDPu7P5TrFtReS4aQD6a width=\"500\">"
      ],
      "execution_count": 24,
      "outputs": [
        {
          "output_type": "display_data",
          "data": {
            "text/html": [
              "<img src=https://drive.google.com/uc?id=1ddTlvnJEdIEpSDPu7P5TrFtReS4aQD6a width=\"500\">"
            ],
            "text/plain": [
              "<IPython.core.display.HTML object>"
            ]
          },
          "metadata": {
            "tags": []
          }
        }
      ]
    },
    {
      "cell_type": "markdown",
      "metadata": {
        "id": "v7hWv4Y8F9Si",
        "colab_type": "text"
      },
      "source": [
        "### In the next update, I'll be attaching Ultrasonic Distance sensors and for object detection and avoidance, as well as a camera for video streaming, and maybe a few other fun things!"
      ]
    },
    {
      "cell_type": "markdown",
      "metadata": {
        "id": "eo-Oa0B8J0Bf",
        "colab_type": "text"
      },
      "source": [
        "## Products and useful links."
      ]
    },
    {
      "cell_type": "markdown",
      "metadata": {
        "id": "ownGUtebFpNS",
        "colab_type": "text"
      },
      "source": [
        "Starter pack for RPi 3 Model B+"
      ]
    },
    {
      "cell_type": "code",
      "metadata": {
        "id": "Wz_V5yMQ2Tub",
        "colab_type": "code",
        "colab": {
          "base_uri": "https://localhost:8080/",
          "height": 521
        },
        "outputId": "6fac65fd-b73a-4000-94bc-9efc500bc02d"
      },
      "source": [
        "%%html\n",
        "<img src=https://drive.google.com/uc?id=1XhA91JFZu5y7KHNW8_BNEc6swgoK9fKl width=\"500\">"
      ],
      "execution_count": 25,
      "outputs": [
        {
          "output_type": "display_data",
          "data": {
            "text/html": [
              "<img src=https://drive.google.com/uc?id=1XhA91JFZu5y7KHNW8_BNEc6swgoK9fKl width=\"500\">"
            ],
            "text/plain": [
              "<IPython.core.display.HTML object>"
            ]
          },
          "metadata": {
            "tags": []
          }
        }
      ]
    },
    {
      "cell_type": "markdown",
      "metadata": {
        "id": "pE2ZQRx0aVyx",
        "colab_type": "text"
      },
      "source": [
        "### Products Used:\n",
        "\n",
        "Cooling Fan:\n",
        "https://www.amazon.com/gp/product/B07D3TVVC7/ref=ppx_yo_dt_b_asin_title_o04_s00?ie=UTF8&psc=1\n",
        "\n",
        "On Off Switch:\n",
        "https://www.amazon.com/gp/product/B01N2U8PK0/ref=ppx_yo_dt_b_asin_title_o09_s01?ie=UTF8&psc=1\n",
        "\n",
        "L298N Motor Driver Controller:\n",
        "https://www.amazon.com/gp/product/B00XAGRQTO/ref=ppx_yo_dt_b_asin_title_o02_s00?ie=UTF8&psc=1\n",
        "\n",
        "CanaKit RPi 3 B+:\n",
        "https://www.amazon.com/gp/product/B07BC567TW/ref=ppx_yo_dt_b_asin_title_o05_s02?ie=UTF8&psc=1\n",
        "\n",
        "8 AA 12V Battery Case:\n",
        "https://www.amazon.com/gp/product/B00VE7HBMS/ref=ppx_yo_dt_b_asin_title_o09_s00?ie=UTF8&psc=1\n",
        "\n",
        "*Some pictures are taken directly from Amazon and/or reference links. Do not claim ownership.*"
      ]
    },
    {
      "cell_type": "markdown",
      "metadata": {
        "id": "3VDBa8-Hr3xY",
        "colab_type": "text"
      },
      "source": [
        "### Useful Links:\n",
        "\n",
        "Raspberry gPIo (RPi.GPIO API): https://learn.sparkfun.com/tutorials/raspberry-gpio/python-rpigpio-api\n",
        "\n",
        "Resistor for LED (Resistor Guide): http://www.resistorguide.com/resistor-for-led/\n",
        "\n",
        "RPi.GPIO Basics: https://raspi.tv/2013/rpi-gpio-basics-5-setting-up-and-using-outputs-with-rpi-gpio\n",
        "\n",
        "Here is some documentation on the L298N and PWM setup.\n",
        "\n",
        "https://www.theengineeringprojects.com/2017/07/introduction-to-l298.html\n",
        "\n",
        "https://learn.sparkfun.com/tutorials/raspberry-gpio/python-rpigpio-api\n"
      ]
    },
    {
      "cell_type": "markdown",
      "metadata": {
        "id": "pgCW5MJGYqFT",
        "colab_type": "text"
      },
      "source": [
        "*2019-08-05: I utilized many resources throughout this build. I have tried to include all for reference. Additional documentation may be added at a later date.*"
      ]
    }
  ]
}